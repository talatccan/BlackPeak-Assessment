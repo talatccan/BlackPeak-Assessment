{
 "cells": [
  {
   "cell_type": "code",
   "execution_count": null,
   "metadata": {},
   "outputs": [
    {
     "name": "stdout",
     "output_type": "stream",
     "text": [
      "{'symboling': 1, 'normalized-losses': 105.0, 'make': 'mazda', 'fuel-type': 'gas', 'aspiration': 'std', 'num-of-doors': 'two', 'body-style': 'hatchback', 'drive-wheels': 'fwd', 'engine-location': 'front', 'wheel-base': 93.5, 'length': 158.5, 'width': 64.0, 'height': 54.0, 'curb-weight': 1920, 'engine-type': 'ohc', 'num-of-cylinders': 'four', 'engine-size': 95, 'fuel-system': '2bbl', 'bore': 3.05, 'stroke': 3.20, 'compression-ratio': 9.2, 'horsepower': 72.0, 'peak-rpm': 5200.0, 'city-mpg': 30, 'highway-mpg': 36, 'price': 6495}"
     ]
    }
   ],
   "source": [
    "from openai import OpenAI\n",
    "import pandas as pd\n",
    "\n",
    "API_KEY = \"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\"\n",
    "\n",
    "client = OpenAI(\n",
    "    base_url=\"https://integrate.api.nvidia.com/v1\",\n",
    "    api_key=API_KEY\n",
    ")\n",
    "MODEL = \"meta/llama-3.1-405b-instruct\"\n",
    "\n",
    "\n",
    "file_path = 'clean_data.xlsx'\n",
    "df = pd.read_excel(file_path)\n",
    "\n",
    "# Prompt\n",
    "example_prompt = \"Here are some examples of car specifications from the dataset:\\n\"\n",
    "for i, example in enumerate(df.groupby('make').head(3).to_dict(orient='records'), start=1):\n",
    "    example_prompt += f\"Example {i}: {example}\\n\"\n",
    "\n",
    "task_description = \"\"\"\n",
    "Based on these examples, generate a new car specification with plausible values that follow the patterns in the dataset.\n",
    "Provide only one new row and your output must be only single row with no other explanations.\n",
    "\"\"\"\n",
    "\n",
    "final_prompt = example_prompt + task_description\n",
    "\n",
    "completion = client.chat.completions.create(\n",
    "  model=\"meta/llama-3.1-405b-instruct\",\n",
    "  messages=[{\"role\":\"user\",\"content\":final_prompt}],\n",
    "  temperature=0.2,\n",
    "  top_p=0.7,\n",
    "  max_tokens=1024,\n",
    "  stream=True\n",
    ")\n",
    "\n",
    "generated_row = []\n",
    "for chunk in completion:\n",
    "  if chunk.choices[0].delta.content is not None:\n",
    "    print(chunk.choices[0].delta.content, end=\"\")"
   ]
  }
 ],
 "metadata": {
  "kernelspec": {
   "display_name": "venv",
   "language": "python",
   "name": "python3"
  },
  "language_info": {
   "codemirror_mode": {
    "name": "ipython",
    "version": 3
   },
   "file_extension": ".py",
   "mimetype": "text/x-python",
   "name": "python",
   "nbconvert_exporter": "python",
   "pygments_lexer": "ipython3",
   "version": "3.8.0"
  }
 },
 "nbformat": 4,
 "nbformat_minor": 2
}
