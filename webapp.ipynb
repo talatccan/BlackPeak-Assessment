{
 "cells": [
  {
   "cell_type": "code",
   "execution_count": 32,
   "metadata": {},
   "outputs": [
    {
     "name": "stdout",
     "output_type": "stream",
     "text": [
      "Overwriting app.py\n"
     ]
    }
   ],
   "source": [
    "%%writefile app.py\n",
    "\n",
    "import streamlit as st\n",
    "import joblib\n",
    "import pandas as pd\n",
    "import json\n",
    "\n",
    "# Load the trained model pipeline\n",
    "pipeline = joblib.load('model.pkl')  # Replace with the actual path to your saved model\n",
    "\n",
    "# Input dictionary with feature names and possible values\n",
    "with open('selected_features.json', 'r') as f:\n",
    "    feature_dict = json.load(f)\n",
    "\n",
    "# Generate categorical and numerical feature names\n",
    "cat_features = []\n",
    "num_features = []\n",
    "for k, v in feature_dict.items():\n",
    "    if len(v) != 0:  # If non-empty list, create one-hot encoded feature names\n",
    "        for t in v:\n",
    "            cat_features.append(f'{k}_{t}')\n",
    "    else:  # If empty list, treat as numerical feature\n",
    "        num_features.append(f'{k}')\n",
    "\n",
    "# Combine all features\n",
    "all_features = cat_features + num_features\n",
    "\n",
    "# Streamlit app title\n",
    "st.title(\"Car Price Prediction App\")\n",
    "\n",
    "# Description\n",
    "st.write(\"Provide values for the following features to predict the car price:\")\n",
    "\n",
    "# Create a zero-filled DataFrame with all features\n",
    "input_df = pd.DataFrame(columns=all_features)\n",
    "input_df.loc[0] = 0  # Fill with zeros initially\n",
    "\n",
    "# User inputs\n",
    "for feature, options in feature_dict.items():\n",
    "    if len(options) != 0:  # Categorical features\n",
    "        user_input = st.selectbox(\n",
    "            f\"Select value for {feature}:\",\n",
    "            options + ['Other']\n",
    "        )\n",
    "        if user_input == 'Other':  # Allow custom input\n",
    "            custom_value = st.text_input(f\"Enter custom value for {feature}:\", value=\"\")\n",
    "            if custom_value:\n",
    "                input_df[f\"{feature}_{custom_value}\"] = 1\n",
    "        else:  # Update the selected one-hot encoded feature\n",
    "            input_df[f\"{feature}_{user_input}\"] = 1\n",
    "    else:  # Numerical features\n",
    "        user_input = st.number_input(\n",
    "            f\"Enter numerical value for {feature}:\",\n",
    "            min_value=0.0, step=1.0\n",
    "        )\n",
    "        input_df[feature] = user_input\n",
    "\n",
    "st.write(input_df)\n",
    "\n",
    "# Display user inputs and predict when the button is clicked\n",
    "if st.button(\"Predict\"):\n",
    "    try:\n",
    "        # Predict using the pipeline\n",
    "        prediction = pipeline.predict(input_df)[0]\n",
    "        st.success(f\"The predicted price of the car is: ${prediction:,.2f}\")\n",
    "    except Exception as e:\n",
    "        st.error(f\"An error occurred during prediction: {e}\")\n"
   ]
  },
  {
   "cell_type": "code",
   "execution_count": null,
   "metadata": {},
   "outputs": [],
   "source": []
  }
 ],
 "metadata": {
  "kernelspec": {
   "display_name": "Python 3",
   "language": "python",
   "name": "python3"
  },
  "language_info": {
   "codemirror_mode": {
    "name": "ipython",
    "version": 3
   },
   "file_extension": ".py",
   "mimetype": "text/x-python",
   "name": "python",
   "nbconvert_exporter": "python",
   "pygments_lexer": "ipython3",
   "version": "3.8.0"
  }
 },
 "nbformat": 4,
 "nbformat_minor": 2
}
